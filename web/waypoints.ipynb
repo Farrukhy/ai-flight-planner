from export_waypoints import export_waypoints

# Define a mission path
waypoints = [
    (35.0, 127.0, 50),
    (35.0005, 127.0005, 60),
    (35.0010, 127.0010, 70)
]

# Export mission
export_waypoints(waypoints, "demo_mission.waypoints")
